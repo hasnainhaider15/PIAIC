{
 "cells": [
  {
   "cell_type": "code",
   "execution_count": 2,
   "metadata": {},
   "outputs": [
    {
     "name": "stdout",
     "output_type": "stream",
     "text": [
      "['sunny', 'faizi', 'shizu']\n"
     ]
    }
   ],
   "source": [
    "list_saman =  ['sunny','faizi', 'shizu']\n",
    "print(list_saman)"
   ]
  },
  {
   "cell_type": "code",
   "execution_count": 4,
   "metadata": {},
   "outputs": [
    {
     "name": "stdout",
     "output_type": "stream",
     "text": [
      "['sunny', 'faizi', 'shizu', 'gosht', 'dahi']\n"
     ]
    }
   ],
   "source": [
    "list_new =list_saman + [\"gosht\", \"dahi\", ]\n",
    "print(list_new)"
   ]
  },
  {
   "cell_type": "code",
   "execution_count": 5,
   "metadata": {},
   "outputs": [
    {
     "name": "stdout",
     "output_type": "stream",
     "text": [
      "['faizi', 'shizu', 'gosht']\n"
     ]
    }
   ],
   "source": [
    "print(list_new[1:4])"
   ]
  },
  {
   "cell_type": "code",
   "execution_count": 7,
   "metadata": {},
   "outputs": [
    {
     "name": "stdout",
     "output_type": "stream",
     "text": [
      "['faizi', 'gosht']\n"
     ]
    }
   ],
   "source": [
    "#[1:4:2] \n",
    "# first is starting point--- kch na likhen to blql start sy shuru krta hai\n",
    "#second is endind point--- kch na likhen to blql end tk jata hai\n",
    "#3rd is step ki position--- kch na likhen to plus 1 ka increment krna hai\n",
    "\n",
    "print(list_new[1:4:2])"
   ]
  },
  {
   "cell_type": "code",
   "execution_count": 8,
   "metadata": {},
   "outputs": [
    {
     "name": "stdout",
     "output_type": "stream",
     "text": [
      "['sunny', 'shizu']\n"
     ]
    }
   ],
   "source": [
    "print(list_new[:4:2])"
   ]
  },
  {
   "cell_type": "code",
   "execution_count": 9,
   "metadata": {},
   "outputs": [
    {
     "name": "stdout",
     "output_type": "stream",
     "text": [
      "['faizi', 'gosht']\n"
     ]
    }
   ],
   "source": [
    "print(list_new[1::2])"
   ]
  },
  {
   "cell_type": "code",
   "execution_count": 11,
   "metadata": {},
   "outputs": [
    {
     "name": "stdout",
     "output_type": "stream",
     "text": [
      "['faizi', 'shizu', 'gosht']\n"
     ]
    }
   ],
   "source": [
    "print(list_new[1:4:])"
   ]
  },
  {
   "cell_type": "code",
   "execution_count": 20,
   "metadata": {},
   "outputs": [
    {
     "name": "stdout",
     "output_type": "stream",
     "text": [
      "['faizi', 'shizu', 'gosht']\n"
     ]
    }
   ],
   "source": [
    "#if you use minus indexing\n",
    "#               -5       -4      -3        -2       -1\n",
    "#list_new = ['sunny', 'faizi', 'shizu', 'gosht', 'dahi']\n",
    "#               0        1        2        3        4\n",
    "\n",
    "print(list_new[-4:-1:])"
   ]
  },
  {
   "cell_type": "code",
   "execution_count": 28,
   "metadata": {},
   "outputs": [
    {
     "data": {
      "text/plain": [
       "['dahi', 'gosht', 'shizu', 'faizi', 'sunny']"
      ]
     },
     "execution_count": 28,
     "metadata": {},
     "output_type": "execute_result"
    }
   ],
   "source": [
    "list_new[-1:-6:-1]"
   ]
  },
  {
   "cell_type": "code",
   "execution_count": 29,
   "metadata": {},
   "outputs": [
    {
     "data": {
      "text/plain": [
       "['C', 'B', 'A']"
      ]
     },
     "execution_count": 29,
     "metadata": {},
     "output_type": "execute_result"
    }
   ],
   "source": [
    "#printing in reverse order\n",
    "l1 = [\"A\", \"B\", \"C\"]\n",
    "l1[-1:-4:-1]"
   ]
  },
  {
   "cell_type": "code",
   "execution_count": 33,
   "metadata": {},
   "outputs": [
    {
     "data": {
      "text/plain": [
       "['sunny', 'faizi', 'shizu', 'gosht', 'dahi']"
      ]
     },
     "execution_count": 33,
     "metadata": {},
     "output_type": "execute_result"
    }
   ],
   "source": [
    "list_new"
   ]
  },
  {
   "cell_type": "code",
   "execution_count": 36,
   "metadata": {},
   "outputs": [
    {
     "data": {
      "text/plain": [
       "['sunny',\n",
       " 'faizi',\n",
       " 'shizu',\n",
       " 'gosht',\n",
       " 'dahi',\n",
       " 'Moo Dhona',\n",
       " 'Moo Dhona',\n",
       " 'Moo Dhona']"
      ]
     },
     "execution_count": 36,
     "metadata": {},
     "output_type": "execute_result"
    }
   ],
   "source": [
    "list_new.append(\"Moo Dhona\")\n",
    "list_new"
   ]
  },
  {
   "cell_type": "code",
   "execution_count": 40,
   "metadata": {},
   "outputs": [
    {
     "data": {
      "text/plain": [
       "['sunny', 'faizi', 'shizu', 'gosht', 'dahi', 'Moo Dhona']"
      ]
     },
     "execution_count": 40,
     "metadata": {},
     "output_type": "execute_result"
    }
   ],
   "source": [
    "del list_new[6]\n",
    "list_new\n"
   ]
  },
  {
   "cell_type": "code",
   "execution_count": 41,
   "metadata": {},
   "outputs": [
    {
     "data": {
      "text/plain": [
       "['sunny', 'faizi', 'shizu', 'gosht', 'dahi']"
      ]
     },
     "execution_count": 41,
     "metadata": {},
     "output_type": "execute_result"
    }
   ],
   "source": [
    "list_new.remove('Moo Dhona')\n",
    "list_new"
   ]
  },
  {
   "cell_type": "code",
   "execution_count": 43,
   "metadata": {},
   "outputs": [
    {
     "data": {
      "text/plain": [
       "['sunny', 'faizi', 'shizu', 'podina', 'podina', 'gosht', 'dahi']"
      ]
     },
     "execution_count": 43,
     "metadata": {},
     "output_type": "execute_result"
    }
   ],
   "source": [
    "#insert on a specific location\n",
    "list_new.insert(3,'podina')\n",
    "list_new"
   ]
  },
  {
   "cell_type": "code",
   "execution_count": 44,
   "metadata": {},
   "outputs": [
    {
     "data": {
      "text/plain": [
       "['sunny', 'faizi', 'shizu', 'podina', 'gosht', 'dahi']"
      ]
     },
     "execution_count": 44,
     "metadata": {},
     "output_type": "execute_result"
    }
   ],
   "source": [
    "list_new.remove('podina')\n",
    "list_new"
   ]
  },
  {
   "cell_type": "code",
   "execution_count": 46,
   "metadata": {},
   "outputs": [
    {
     "data": {
      "text/plain": [
       "['sunny', 'faizi', 'shizu', 'dhania', 'gosht', 'dahi']"
      ]
     },
     "execution_count": 46,
     "metadata": {},
     "output_type": "execute_result"
    }
   ],
   "source": [
    "#replace / Overright / Update\n",
    "\n",
    "list_new[3] = \"dhania\"\n",
    "list_new"
   ]
  },
  {
   "cell_type": "code",
   "execution_count": 50,
   "metadata": {},
   "outputs": [
    {
     "name": "stdout",
     "output_type": "stream",
     "text": [
      "Imran Bhai\n"
     ]
    }
   ],
   "source": [
    "#Using if else \n",
    "\n",
    "person = \"karachi\"\n",
    "if person == \"karachi\":\n",
    "    print(\"Imran Bhai\")\n",
    "elif person == \"peshawar\":\n",
    "    print(\"khan saab\")\n",
    "elif person == \"faislabad\":\n",
    "    print(\"Mran Khan\")\n",
    "elif person == \"islamabad\":\n",
    "    print(\"IK <3\")\n",
    "else:\n",
    "    print(\"Imran Khan Niazi\")"
   ]
  },
  {
   "cell_type": "code",
   "execution_count": 57,
   "metadata": {},
   "outputs": [
    {
     "name": "stdout",
     "output_type": "stream",
     "text": [
      "1\n",
      "2\n",
      "3\n",
      "4\n",
      "5\n",
      "6\n",
      "7\n",
      "8\n",
      "9\n"
     ]
    }
   ],
   "source": [
    "#for (int = 10: i<=1: i--)\n",
    "\n",
    "for i in range(1, 10):\n",
    "    print(i)"
   ]
  },
  {
   "cell_type": "code",
   "execution_count": 58,
   "metadata": {},
   "outputs": [
    {
     "name": "stdout",
     "output_type": "stream",
     "text": [
      "1\n",
      "4\n",
      "7\n"
     ]
    }
   ],
   "source": [
    "for i in range(1, 10, 3):\n",
    "    print(i)"
   ]
  },
  {
   "cell_type": "code",
   "execution_count": 59,
   "metadata": {},
   "outputs": [
    {
     "data": {
      "text/plain": [
       "['sunny', 'faizi', 'shizu', 'dhania', 'gosht', 'dahi']"
      ]
     },
     "execution_count": 59,
     "metadata": {},
     "output_type": "execute_result"
    }
   ],
   "source": [
    "list_new"
   ]
  },
  {
   "cell_type": "code",
   "execution_count": null,
   "metadata": {},
   "outputs": [],
   "source": [
    "#it's not a good approach\n",
    "task_to_find = \"\"\n",
    "if task_to_find == list_new[0]:\n",
    "    print(\"Found\")\n",
    "elif task_to_find == list_new[1]:\n",
    "    print(\"Found\")"
   ]
  },
  {
   "cell_type": "code",
   "execution_count": 62,
   "metadata": {},
   "outputs": [
    {
     "name": "stdout",
     "output_type": "stream",
     "text": [
      "Found\n",
      "faizi\n"
     ]
    }
   ],
   "source": [
    "task_to_find = \"faizi\"\n",
    "for task in list_new:\n",
    "    if task_to_find == task:\n",
    "        print(\"Found\")\n",
    "        print(task_to_find)\n"
   ]
  },
  {
   "cell_type": "code",
   "execution_count": 67,
   "metadata": {},
   "outputs": [
    {
     "name": "stdout",
     "output_type": "stream",
     "text": [
      "Found1\n",
      "faizi\n"
     ]
    }
   ],
   "source": [
    "#task_to_find = \"faizi\"\n",
    "for task in range(0,len(list_new)):\n",
    "    if 'faizi' == list_new[task]:\n",
    "        print(\"Found\" + str(task))\n",
    "        print(task_to_find)"
   ]
  },
  {
   "cell_type": "code",
   "execution_count": 77,
   "metadata": {},
   "outputs": [
    {
     "name": "stdout",
     "output_type": "stream",
     "text": [
      "positve\n"
     ]
    }
   ],
   "source": [
    "# to check it's positve or negative\n",
    "a =1\n",
    "if a >= 0:\n",
    "    print(\"positve\")\n",
    "else:\n",
    "    print(\"negative\")"
   ]
  },
  {
   "cell_type": "code",
   "execution_count": 105,
   "metadata": {},
   "outputs": [
    {
     "name": "stdout",
     "output_type": "stream",
     "text": [
      "Enter Marks of math90\n",
      "Enter Marks of computer95\n",
      "Enter Marks of phy96\n",
      "Enter Marks of eng93\n",
      "Enter Marks of history97\n",
      "grade A\n",
      "94.2\n"
     ]
    }
   ],
   "source": [
    "#find grade\n",
    "\n",
    "b = int(input(\"Enter Marks of math\"))\n",
    "c = int(input(\"Enter Marks of computer\"))\n",
    "d = int(input(\"Enter Marks of phy\"))\n",
    "e = int(input(\"Enter Marks of eng\"))\n",
    "f = int(input(\"Enter Marks of history\"))\n",
    "avg = b + c + d + e+ f\n",
    "avg /= 5\n",
    "if avg <= 100 and avg >= 90:\n",
    "    print(\"grade A\")\n",
    "    print(avg)\n",
    "elif avg <= 89 and avg >= 80:\n",
    "    print(\"grade B\")\n",
    "    print(avg)\n",
    "elif avg <= 79 and avg >= 70:\n",
    "    print(\"grade c\")\n",
    "    print(avg)\n",
    "elif avg <= 69 and avg >= 60:\n",
    "    print(\"grade D\")\n",
    "    print(avg)\n",
    "elif avg <= 59 and avg >= 50:\n",
    "    print(\"grade E\")\n",
    "    print(avg)\n",
    "else:\n",
    "    print(\"Fail\")\n",
    "    print(avg)"
   ]
  }
 ],
 "metadata": {
  "kernelspec": {
   "display_name": "Python 3",
   "language": "python",
   "name": "python3"
  },
  "language_info": {
   "codemirror_mode": {
    "name": "ipython",
    "version": 3
   },
   "file_extension": ".py",
   "mimetype": "text/x-python",
   "name": "python",
   "nbconvert_exporter": "python",
   "pygments_lexer": "ipython3",
   "version": "3.7.3"
  }
 },
 "nbformat": 4,
 "nbformat_minor": 2
}
