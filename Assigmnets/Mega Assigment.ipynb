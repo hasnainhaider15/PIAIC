{
 "cells": [
  {
   "cell_type": "code",
   "execution_count": 43,
   "metadata": {},
   "outputs": [
    {
     "name": "stdout",
     "output_type": "stream",
     "text": [
      "4\n",
      "1\n",
      "1\n",
      "5\n",
      "9\n",
      "0\n"
     ]
    }
   ],
   "source": [
    "#Question 19\n",
    "x = [[4, 1, 1], [5, 9, 0]]\n",
    "for i in range(len(x)):\n",
    "    for j in range(len(x[i])):\n",
    "        print(x[i][j])\n"
   ]
  },
  {
   "cell_type": "code",
   "execution_count": 41,
   "metadata": {},
   "outputs": [
    {
     "name": "stdout",
     "output_type": "stream",
     "text": [
      "4\t 1\t 1\t 5\t 9\t 0\t "
     ]
    }
   ],
   "source": [
    "x = [[4, 1, 1], [5, 9, 0]]\n",
    "for i in range(len(x)):\n",
    "    for j in range(len(x[i])):\n",
    "        print(x[i][j], end = '\\t ')\n"
   ]
  },
  {
   "cell_type": "code",
   "execution_count": 61,
   "metadata": {},
   "outputs": [
    {
     "name": "stdout",
     "output_type": "stream",
     "text": [
      "4\t1\t1\t\n",
      "\n",
      "5\t9\t0\t\n",
      "\n"
     ]
    }
   ],
   "source": [
    "x = [[4, 1, 1], [5, 9, 0]]\n",
    "for i in range(2):\n",
    "    for j in range(3):\n",
    "        print( x[i][j] , end = '\\t')\n",
    "    print(\"\\n\")"
   ]
  },
  {
   "cell_type": "code",
   "execution_count": 76,
   "metadata": {},
   "outputs": [
    {
     "name": "stdout",
     "output_type": "stream",
     "text": [
      "4\t5\t\n",
      "\n",
      "1\t9\t\n",
      "\n",
      "1\t0\t\n",
      "\n"
     ]
    }
   ],
   "source": [
    "#x = [[4, 1, 1], [5, 9, 0]]\n",
    "#for i in range(2):\n",
    "#    for j in range(len(x[i])):\n",
    " #       print(x[i][j], end = ' ' )\n",
    "    \n",
    "x = [[4, 1, 1], [5, 9, 0]]\n",
    "for i in range(3):\n",
    "    for j in range(2):\n",
    "        print(x[j][i], end = '\\t' )\n",
    "    print(\"\\n\")"
   ]
  },
  {
   "cell_type": "code",
   "execution_count": 103,
   "metadata": {},
   "outputs": [
    {
     "name": "stdout",
     "output_type": "stream",
     "text": [
      "Item0 -  10.62\n",
      "Item1 -  16.14\n",
      "Item2 -  6.45\n",
      "Item3 -  17.11\n"
     ]
    }
   ],
   "source": [
    "# Question 20:\n",
    "q = [10.62, 16.14, 6.45, 17.11]\n",
    "for j, z in enumerate (q) :\n",
    "    print( 'Item' + str(j) + ' - ', str(z))"
   ]
  },
  {
   "cell_type": "code",
   "execution_count": 80,
   "metadata": {},
   "outputs": [
    {
     "name": "stdout",
     "output_type": "stream",
     "text": [
      "{0: 1, 1: 1, 2: 1}\n"
     ]
    }
   ],
   "source": [
    "# Question 22\n",
    "D = dict()\n",
    "for i in range (3):\n",
    "    for j in range(2):\n",
    "        D[i] = j\n",
    "print(D)"
   ]
  },
  {
   "cell_type": "code",
   "execution_count": 120,
   "metadata": {},
   "outputs": [
    {
     "name": "stdout",
     "output_type": "stream",
     "text": [
      "11.333333333333334\n"
     ]
    }
   ],
   "source": [
    "# Question 24\n",
    "\n",
    "def avg ( x , y , z = 50 ):\n",
    "    adding = x + y + z\n",
    "    avg_value = adding / 3\n",
    "    return avg_value\n",
    "y = avg ( x = 5 , y = 9 , z = 20 )\n",
    "print(y)"
   ]
  },
  {
   "cell_type": "code",
   "execution_count": 110,
   "metadata": {},
   "outputs": [
    {
     "name": "stdout",
     "output_type": "stream",
     "text": [
      "name is: AliMarks: 44.5\n"
     ]
    }
   ],
   "source": [
    "#Question 25\n",
    "name = 'Ali'\n",
    "opt_values = ( 5 , 9 , 20, 34, 87, 112)\n",
    "def avg1 ( opt_values , name ):\n",
    "    avg_value = sum (opt_values) / len(opt_values)\n",
    "    print('name is: ' + name + 'Marks: ' + str(avg_value))\n",
    "avg1(opt_values, name)\n"
   ]
  },
  {
   "cell_type": "code",
   "execution_count": 105,
   "metadata": {},
   "outputs": [
    {
     "name": "stdout",
     "output_type": "stream",
     "text": [
      "The winner was Manchester\n",
      "The score was 1-0\n"
     ]
    }
   ],
   "source": [
    "# Question 26\n",
    "def display_result(winner, score, **other_info):\n",
    "    print(\"The winner was \" + winner)\n",
    "    print(\"The score was \" + score)\n",
    "display_result(winner = \"Manchester\", score=\"1-0\", overtime =\"yes\", injuries=\"none\")\n",
    "\n",
    "#with double asterix it will take all the arguments while in function calling\n",
    "#with single asterix it will show error if we hae extra arguments in function calling"
   ]
  },
  {
   "cell_type": "code",
   "execution_count": 118,
   "metadata": {},
   "outputs": [
    {
     "name": "stdout",
     "output_type": "stream",
     "text": [
      "name is: Ali  and Marks are: 44.5\n"
     ]
    }
   ],
   "source": [
    "# Question 25: anotherway\n",
    "def avg ( name, *opt_values   ):\n",
    "    avg_value = sum (opt_values) / len(opt_values)\n",
    "    print('name is:' + ' ' +  name+ ' '  + ' and Marks are: ' + str(avg_value))\n",
    "avg ('Ali' , 5 , 9 , 20, 34, 87, 112   )"
   ]
  },
  {
   "cell_type": "code",
   "execution_count": 124,
   "metadata": {},
   "outputs": [
    {
     "name": "stdout",
     "output_type": "stream",
     "text": [
      "The winner was Manchester\n",
      "The score was 1-0\n"
     ]
    }
   ],
   "source": [
    "# Question 27: \n",
    "def display_result(winner,  score,  **other_info):\n",
    "    print(\"The winner was \" + winner)\n",
    "    print(\"The score was \" + score)\n",
    "display_result(winner='Manchester', overtime =\"yes\", injuries='none' , score='1-0' )\n"
   ]
  },
  {
   "cell_type": "code",
   "execution_count": 126,
   "metadata": {},
   "outputs": [
    {
     "name": "stdout",
     "output_type": "stream",
     "text": [
      "000123\n"
     ]
    }
   ],
   "source": [
    "#Question 28:\n",
    "print('%06d'%123)"
   ]
  },
  {
   "cell_type": "code",
   "execution_count": 127,
   "metadata": {},
   "outputs": [
    {
     "name": "stdout",
     "output_type": "stream",
     "text": [
      "22.19\n"
     ]
    }
   ],
   "source": [
    "#Question 29:\n",
    "print(\"%5.2f\"%22.19)"
   ]
  },
  {
   "cell_type": "code",
   "execution_count": 128,
   "metadata": {},
   "outputs": [
    {
     "data": {
      "text/plain": [
       "'1.234560, 1.234560, 01.23'"
      ]
     },
     "execution_count": 128,
     "metadata": {},
     "output_type": "execute_result"
    }
   ],
   "source": [
    "#Question 30: \n",
    "'{0:f}, {1:2f}, {2:05.2f}'.format(1.23456, 1.23456, 1.23456)"
   ]
  },
  {
   "cell_type": "code",
   "execution_count": null,
   "metadata": {},
   "outputs": [],
   "source": [
    "#Question 31:\n",
    "i = 7\n",
    "while False:\n",
    "    if i%2 == 0:\n",
    "        break\n",
    "print(i)\n",
    "i += 2"
   ]
  },
  {
   "cell_type": "code",
   "execution_count": 20,
   "metadata": {},
   "outputs": [
    {
     "name": "stdout",
     "output_type": "stream",
     "text": [
      "a a a a a a "
     ]
    }
   ],
   "source": [
    "#Question 32:\n",
    "x = \"abcdef\"\n",
    "i = \"a\"\n",
    "while i in x:\n",
    "    x = x[:-1]\n",
    "    print(i, end = \" \")"
   ]
  },
  {
   "cell_type": "code",
   "execution_count": 22,
   "metadata": {},
   "outputs": [
    {
     "name": "stdout",
     "output_type": "stream",
     "text": [
      "d\n",
      "c\n",
      "b\n",
      "a\n"
     ]
    }
   ],
   "source": [
    "#Question 33:\n",
    "for i in ''.join(reversed(list('abcd'))):\n",
    "    print(i)"
   ]
  },
  {
   "cell_type": "code",
   "execution_count": 27,
   "metadata": {},
   "outputs": [
    {
     "name": "stdout",
     "output_type": "stream",
     "text": [
      "0\n",
      "1\n",
      "2\n",
      "3\n",
      "Here\n"
     ]
    }
   ],
   "source": [
    "# Question 34:\n",
    "for i in range(4):\n",
    "    if i == 5:\n",
    "        break\n",
    "    else:\n",
    "        print(i)\n",
    "else:\n",
    "    print(\"Here\")"
   ]
  },
  {
   "cell_type": "code",
   "execution_count": 33,
   "metadata": {},
   "outputs": [
    {
     "name": "stdout",
     "output_type": "stream",
     "text": [
      "48\n"
     ]
    }
   ],
   "source": [
    "#Question 35: \n",
    "y = 6\n",
    "z = lambda x: x * y\n",
    "print(z(8))"
   ]
  },
  {
   "cell_type": "code",
   "execution_count": 55,
   "metadata": {},
   "outputs": [
    {
     "name": "stdout",
     "output_type": "stream",
     "text": [
      "3\n"
     ]
    }
   ],
   "source": [
    "# Question 36\n",
    "i = 3 \n",
    "def change(i):\n",
    "    i=i+1\n",
    "    return i\n",
    "change(1)\n",
    "print(i)"
   ]
  },
  {
   "cell_type": "code",
   "execution_count": 57,
   "metadata": {},
   "outputs": [
    {
     "name": "stdout",
     "output_type": "stream",
     "text": [
      "<class 'tuple'>\n",
      "(2, 3, 4)\n"
     ]
    }
   ],
   "source": [
    "# Question 40:\n",
    "def change(one, *two):\n",
    "    print(type(two))\n",
    "    print(two)\n",
    "change(1,2,3,4)"
   ]
  },
  {
   "cell_type": "code",
   "execution_count": 59,
   "metadata": {},
   "outputs": [
    {
     "name": "stdout",
     "output_type": "stream",
     "text": [
      "<class 'dict'>\n"
     ]
    }
   ],
   "source": [
    "# Question 41:\n",
    "def find(a, **b):\n",
    "    print(type(b))\n",
    "find('letters',A='1',B='2')"
   ]
  },
  {
   "cell_type": "code",
   "execution_count": 61,
   "metadata": {},
   "outputs": [
    {
     "name": "stdout",
     "output_type": "stream",
     "text": [
      "[0]\n",
      "[0, 1]\n",
      "[0, 1, 2]\n"
     ]
    }
   ],
   "source": [
    "# Question 42:\n",
    "def foo(i, x=[]):\n",
    "    x.append(i)\n",
    "    return x\n",
    "for i in range(3):\n",
    "    print(foo(i))"
   ]
  },
  {
   "cell_type": "code",
   "execution_count": 63,
   "metadata": {},
   "outputs": [
    {
     "data": {
      "text/plain": [
       "15"
      ]
     },
     "execution_count": 63,
     "metadata": {},
     "output_type": "execute_result"
    }
   ],
   "source": [
    "# Question 43:\n",
    "(3*(1+2)**2 - (2**2)*3)"
   ]
  }
 ],
 "metadata": {
  "kernelspec": {
   "display_name": "Python 3",
   "language": "python",
   "name": "python3"
  },
  "language_info": {
   "codemirror_mode": {
    "name": "ipython",
    "version": 3
   },
   "file_extension": ".py",
   "mimetype": "text/x-python",
   "name": "python",
   "nbconvert_exporter": "python",
   "pygments_lexer": "ipython3",
   "version": "3.7.3"
  }
 },
 "nbformat": 4,
 "nbformat_minor": 2
}
