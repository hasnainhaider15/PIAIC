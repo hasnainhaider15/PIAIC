{
 "cells": [
  {
   "cell_type": "code",
   "execution_count": 9,
   "metadata": {},
   "outputs": [
    {
     "name": "stdout",
     "output_type": "stream",
     "text": [
      "Enter a number to check: 1\n",
      "Positive Number\n"
     ]
    }
   ],
   "source": [
    "# Question1: Positive or negative\n",
    "a = float(input(\"Enter a number to check: \"))\n",
    "if a >= 0:\n",
    "    print(\"Positive Number\")\n",
    "else:\n",
    "    print(\"Negative Number\")\n"
   ]
  },
  {
   "cell_type": "code",
   "execution_count": 19,
   "metadata": {},
   "outputs": [
    {
     "name": "stdout",
     "output_type": "stream",
     "text": [
      "Enter the marks of english: 50\n",
      "Enter the marks of math: 60\n",
      "Enter the marks of urdu: 70\n",
      "Enter the marks of science: 80\n",
      "Enter the marks of islamiyat: 90\n",
      "\n",
      "\n",
      "Fail\n",
      "Total Marks: 350\n",
      "Average marks are: 124.0\n"
     ]
    }
   ],
   "source": [
    "# Question 2: Take in the Marks of 5 subjects and display grade\n",
    "b = int(input(\"Enter the marks of english: \"))\n",
    "c = int(input(\"Enter the marks of math: \"))\n",
    "d = int(input(\"Enter the marks of urdu: \"))\n",
    "e = int(input(\"Enter the marks of science: \"))\n",
    "f = int(input(\"Enter the marks of islamiyat: \"))\n",
    "e = b + c + d + e + f\n",
    "avg = (b + c + d + e + f)/5\n",
    "print(\"\\n\")\n",
    "if avg >= 90 and avg <=100:\n",
    "    print(\"Grade A\")\n",
    "elif avg >= 80 and avg <=89:\n",
    "    print(\"Grade B\")\n",
    "elif avg >= 70 and avg <=79:\n",
    "    print(\"Grade C\")\n",
    "elif avg >= 60 and avg <=69:\n",
    "    print(\"Grade D\")\n",
    "elif avg >= 50 and avg <=59:\n",
    "    print(\"Grade E\")\n",
    "else:\n",
    "    print(\"Fail\")\n",
    "    print(\"Total Marks: \" + str(e))\n",
    "    print(\"Average marks are: \" + str(avg))"
   ]
  },
  {
   "cell_type": "code",
   "execution_count": 22,
   "metadata": {},
   "outputs": [
    {
     "name": "stdout",
     "output_type": "stream",
     "text": [
      "Enter num Numenator num: 20\n",
      "Enter num Denominator: 4\n",
      "Qoutient is: 5\n",
      "Remainder is: 0\n"
     ]
    }
   ],
   "source": [
    "# Question 3: Read two numbers and print yheir quotient and remainder\n",
    "\n",
    "a = int(input(\"Enter num Numenator num: \"))\n",
    "b = int(input(\"Enter num Denominator: \"))\n",
    "c = a // b\n",
    "d = a % b\n",
    "\n",
    "print(\"Qoutient is: \" + str(c))\n",
    "print(\"Remainder is: \" + str(d))"
   ]
  },
  {
   "cell_type": "code",
   "execution_count": 38,
   "metadata": {},
   "outputs": [
    {
     "name": "stdout",
     "output_type": "stream",
     "text": [
      "1\n",
      "5\n",
      "7\n",
      "11\n",
      "13\n",
      "17\n",
      "19\n",
      "23\n",
      "25\n",
      "29\n",
      "31\n",
      "35\n",
      "37\n",
      "41\n",
      "43\n",
      "47\n",
      "49\n"
     ]
    }
   ],
   "source": [
    "# Question 4: Print all intergers that aren't divisible by either  2 0r 3lie btw 1 to 50\n",
    "\n",
    "for i in range(0,51):\n",
    "    if i % 2 != 0 and i % 3 != 0: \n",
    "        print(i)"
   ]
  },
  {
   "cell_type": "code",
   "execution_count": 49,
   "metadata": {},
   "outputs": [
    {
     "name": "stdout",
     "output_type": "stream",
     "text": [
      "Num 1: 5\n",
      "Num 2: 4\n",
      "Swapped value: 4\n",
      "Swapped Value: 5\n"
     ]
    }
   ],
   "source": [
    "#Question 5: Exchange two numbers without using 3rd variable\n",
    "\n",
    "a = int(input(\"Num 1: \"))\n",
    "b = int(input(\"Num 2: \"))\n",
    "a = a + b\n",
    "b = a - b\n",
    "a = a - b\n",
    "print(\"Swapped value: \" + str(a))\n",
    "print(\"Swapped Value: \"+ str(b))\n"
   ]
  },
  {
   "cell_type": "code",
   "execution_count": 59,
   "metadata": {},
   "outputs": [
    {
     "name": "stdout",
     "output_type": "stream",
     "text": [
      "Enter value of side 1: 4\n",
      "Enter value if side 2: 5\n",
      "Enter value of side 3: 6\n",
      "Sides: 7.5\n",
      "Area of Triangle: 9.921567416492215\n"
     ]
    }
   ],
   "source": [
    "#Question 6: Find the AREA of triangle given all sides\n",
    "\n",
    "base = float(input(\"Enter value of side 1: \"))\n",
    "hypo = float(input(\"Enter value if side 2: \"))\n",
    "perp = float(input(\"Enter value of side 3: \"))\n",
    "s = (base + hypo + perp)/2\n",
    "area = (s*(s-base)*(s-hypo)*(s-perp))**0.5\n",
    "print(\"Sides: \" + str(s))\n",
    "print(\"Area of Triangle: \" + str(area))"
   ]
  },
  {
   "cell_type": "code",
   "execution_count": 25,
   "metadata": {},
   "outputs": [
    {
     "name": "stdout",
     "output_type": "stream",
     "text": [
      "Enter elements to put in list: 5\n",
      "Enter Value: 3\n",
      "Enter Value: 2\n",
      "Enter Value: 5\n",
      "Enter Value: 4\n",
      "Enter Value: 6\n",
      "[2, 4, 6]\n",
      "Length of Even Numbers:  3\n",
      "Largest Even Number:  6\n",
      "\n",
      "\n",
      "[3, 5]\n",
      "Length of Odd Numbers:  2\n",
      "Largest Odd Number:  5\n"
     ]
    }
   ],
   "source": [
    "#### Question 7: Write Python Program to Print Largest Even and Largest Odd Number in a List\n",
    "\n",
    "list = []\n",
    "n = int(input(\"Enter elements to put in list: \"))\n",
    "for i in range(0, n):\n",
    "    elem = int(input(\"Enter Value: \"))\n",
    "    list.append(elem)\n",
    "#print(list)\n",
    "list1 = []\n",
    "list2 = []\n",
    "for i in list:\n",
    "    if i % 2 == 0:\n",
    "        list1.append(i)\n",
    "        list1.sort()\n",
    "    else:\n",
    "        list2.append(i)\n",
    "        list2.sort()\n",
    "print(list1)\n",
    "print(\"Length of Even Numbers: \", len(list1))\n",
    "print(\"Largest Even Number: \", max(list1))\n",
    "print(\"\\n\")\n",
    "print(list2)\n",
    "print(\"Length of Odd Numbers: \", len(list2))\n",
    "print(\"Largest Odd Number: \", max(list2))"
   ]
  },
  {
   "cell_type": "code",
   "execution_count": 3,
   "metadata": {},
   "outputs": [
    {
     "name": "stdout",
     "output_type": "stream",
     "text": [
      "Enter Number of Elements:6\n",
      "Enter Value: 20\n",
      "Enter Value: 10\n",
      "Enter Value: 33\n",
      "Enter Value: 4\n",
      "Enter Value: 1\n",
      "Enter Value: 70\n",
      "[1, 4, 10, 20, 33, 70]\n",
      "Second largest number is:  33\n"
     ]
    }
   ],
   "source": [
    "### Question 8: Write Python Program to Find the Second Largest Number in a List\n",
    "\n",
    "list3 = []\n",
    "b =int(input(\"Enter Number of Elements:\"))\n",
    "for i in range(0, b):\n",
    "    ele = int(input(\"Enter Value: \"))\n",
    "    list3.append(ele)\n",
    "    list3.sort()\n",
    "print(list3)\n",
    "print(\"Second largest number is: \" , list3[-2])"
   ]
  },
  {
   "cell_type": "code",
   "execution_count": 17,
   "metadata": {},
   "outputs": [
    {
     "name": "stdout",
     "output_type": "stream",
     "text": [
      "Enter Number of Elements for 1st List:3\n",
      "Enter Value: 1\n",
      "Enter Value: 5\n",
      "Enter Value: 9\n",
      "[1, 5, 9]\n",
      "Enter Number of Elements 2nd List:2\n",
      "Enter Value: 3\n",
      "Enter Value: 6\n",
      "[3, 6]\n",
      "Union of 2 Lists is:  [1, 5, 9, 3, 6]\n"
     ]
    }
   ],
   "source": [
    "# Question 9: Write Python Program to Find the Union of two Lists\n",
    "\n",
    "def listfun(llist1, list2):\n",
    "    final_list = list1 + list2\n",
    "    return final_list\n",
    "\n",
    "    \n",
    "list1 = []\n",
    "list2 = []\n",
    "c =int(input(\"Enter Number of Elements for 1st List:\"))\n",
    "for i in range(0, c):\n",
    "    ele = int(input(\"Enter Value: \"))\n",
    "    list1.append(ele)\n",
    "print(list1)\n",
    "list6 = []\n",
    "d =int(input(\"Enter Number of Elements 2nd List:\"))\n",
    "for i in range(0, d):\n",
    "    ele = int(input(\"Enter Value: \"))\n",
    "    list2.append(ele)\n",
    "print(list2)\n",
    "print(\"Union of 2 Lists is: \", listfun(list1, list2))\n",
    "    "
   ]
  }
 ],
 "metadata": {
  "kernelspec": {
   "display_name": "Python 3",
   "language": "python",
   "name": "python3"
  },
  "language_info": {
   "codemirror_mode": {
    "name": "ipython",
    "version": 3
   },
   "file_extension": ".py",
   "mimetype": "text/x-python",
   "name": "python",
   "nbconvert_exporter": "python",
   "pygments_lexer": "ipython3",
   "version": "3.7.3"
  }
 },
 "nbformat": 4,
 "nbformat_minor": 2
}
