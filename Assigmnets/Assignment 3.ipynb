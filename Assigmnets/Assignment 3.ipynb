{
 "cells": [
  {
   "cell_type": "code",
   "execution_count": 4,
   "metadata": {},
   "outputs": [
    {
     "name": "stdout",
     "output_type": "stream",
     "text": [
      "Enter key Value: sunny\n",
      "Enter Value for key: 30\n",
      "{'sunny': '30'}\n"
     ]
    }
   ],
   "source": [
    "# Task 1: Python Program to Add a Key-Value Pair to the Dictionary\n",
    "key = input(\"Enter key Value: \")\n",
    "value = input(\"Enter Value for key: \")\n",
    "d = {}\n",
    "d.update({key:value})\n",
    "print(d)"
   ]
  },
  {
   "cell_type": "code",
   "execution_count": 13,
   "metadata": {},
   "outputs": [
    {
     "name": "stdout",
     "output_type": "stream",
     "text": [
      "{'sunny': 20, 'Faizi': 30, 'shizu': 50}\n"
     ]
    }
   ],
   "source": [
    "# Task 2: Python Program to Concatenate Two Dictionaries Into One\n",
    "\n",
    "d1 = {\"sunny\": 20 , \"Faizi\": 30}\n",
    "d2 = {\"shizu\": 50}\n",
    "d1.update(d2)\n",
    "print(d1)"
   ]
  },
  {
   "cell_type": "code",
   "execution_count": 27,
   "metadata": {},
   "outputs": [
    {
     "name": "stdout",
     "output_type": "stream",
     "text": [
      "Enter Key Value:sunny\n",
      "Present\n"
     ]
    }
   ],
   "source": [
    "# Task 3: Python Program to Check if a Given Key Exists in a Dictionary or Not\n",
    "\n",
    "d5 = {\"faiz\": 40, \"Shezi\": 30, \"sunny\": 60}\n",
    "key = input(\"Enter Key Value:\")\n",
    "if key in d5.keys():\n",
    "    print(\"Present\")\n",
    "else:\n",
    "    print(\"Not Present\")\n",
    "    "
   ]
  },
  {
   "cell_type": "code",
   "execution_count": 43,
   "metadata": {},
   "outputs": [
    {
     "name": "stdout",
     "output_type": "stream",
     "text": [
      "Input a number 7\n",
      "{1: 1, 2: 4, 3: 9, 4: 16, 5: 25, 6: 36, 7: 49}\n"
     ]
    }
   ],
   "source": [
    "#Task 4: Python Program to Generate a Dictionary that Contains Numbers (between 1 and n) in the Form (x,x*x).\n",
    "n=int(input(\"Input a number \"))\n",
    "d = dict()\n",
    "\n",
    "for x in range(1,n+1):\n",
    "    d[x]=x*x\n",
    "\n",
    "print(d) "
   ]
  },
  {
   "cell_type": "code",
   "execution_count": 49,
   "metadata": {},
   "outputs": [
    {
     "name": "stdout",
     "output_type": "stream",
     "text": [
      "30\n"
     ]
    }
   ],
   "source": [
    "#Task 5: Python Program to Sum All the Items in a Dictionary\n",
    "\n",
    "d10 = {\"Sunny\":10, \"Faizi\":5, \"Shizu\":15}\n",
    "add = sum(d10.values())\n",
    "print(add)"
   ]
  },
  {
   "cell_type": "code",
   "execution_count": 67,
   "metadata": {},
   "outputs": [
    {
     "name": "stdout",
     "output_type": "stream",
     "text": [
      "4\n"
     ]
    }
   ],
   "source": [
    "#Task 6: Python Program to Multiply All the Items in a Dictionary\n",
    "dic = {\"sunny\":2, \"faizi\":3, \"Shizu\": 4}\n",
    "#dic = {1:2, 2:3, 3:4}\n",
    "multiplied = 1\n",
    "for key in dic:\n",
    "    result = multiplied * dic[key]\n",
    "\n",
    "print(result) \n"
   ]
  },
  {
   "cell_type": "code",
   "execution_count": 83,
   "metadata": {},
   "outputs": [
    {
     "name": "stdout",
     "output_type": "stream",
     "text": [
      "Enter Key Value:Shezi\n",
      "Key is Present\n",
      "{'faiz': 80, 'sunny': 600}\n",
      "{'faiz': 80, 'sunny': 600}\n"
     ]
    }
   ],
   "source": [
    "#Task 7: Python Program to Remove the Given Key from a Dictionary\n",
    "\n",
    "d12 = {\"faiz\": 80, \"Shezi\": 90, \"sunny\": 600}\n",
    "key = input(\"Enter Key Value:\")\n",
    "if key in d5.keys():\n",
    "    print(\"Key is Present\")\n",
    "    del d12[key]\n",
    "    print(d12)\n",
    "else:\n",
    "    print(\"Not Present\")\n",
    "print(d12)\n"
   ]
  },
  {
   "cell_type": "code",
   "execution_count": 9,
   "metadata": {},
   "outputs": [
    {
     "name": "stdout",
     "output_type": "stream",
     "text": [
      "Enter number of element for KEY: 3\n",
      "For Keys\n",
      "Enter Key Value: sunny\n",
      "Enter Key Value: ahizu\n",
      "Enter Key Value: faizi\n",
      "['sunny', 'ahizu', 'faizi']\n",
      "For Values\n",
      "Enter Value of Key: 1\n",
      "Enter Value of Key: 2\n",
      "Enter Value of Key: 3\n",
      "['1', '2', '3']\n",
      "{'sunny': '1', 'ahizu': '2', 'faizi': '3'}\n"
     ]
    }
   ],
   "source": [
    "#Task 8: Python Program to Map Two Lists into a Dictionary\n",
    "\n",
    "list1 = []\n",
    "list2 = []\n",
    "a = int(input(\"Enter number of element for KEY: \"))\n",
    "print(\"For Keys\")\n",
    "for i in range(a):\n",
    "    key = input(\"Enter Key Value: \")\n",
    "    list1.append(key)\n",
    "print(list1)\n",
    "#b = int(input(\"Enter number of element for Values: \"))\n",
    "print(\"For Values\")\n",
    "for j in range(a):\n",
    "    value =  input(\"Enter Value of Key: \")\n",
    "    list2.append(value)\n",
    "print(list2)\n",
    "dictionary = dict(zip(list1, list2))\n",
    "print(dictionary)"
   ]
  },
  {
   "cell_type": "code",
   "execution_count": 23,
   "metadata": {},
   "outputs": [
    {
     "name": "stdout",
     "output_type": "stream",
     "text": [
      "Enter String2 10 sunny is 10\n",
      "{'2': 1, '10': 2, 'sunny': 1, 'is': 1}\n"
     ]
    }
   ],
   "source": [
    "#Task 9: Python Program to Count the Frequency of Words Appearing in a String Using a Dictionary\n",
    "\n",
    "string = input(\"Enter String\")\n",
    "l1 = []\n",
    "l1 = string.split()\n",
    "frequency = [l1.count(p) for p in l1]\n",
    "ziping = dict(zip(l1, frequency))\n",
    "print(ziping)\n"
   ]
  },
  {
   "cell_type": "code",
   "execution_count": 42,
   "metadata": {},
   "outputs": [
    {
     "name": "stdout",
     "output_type": "stream",
     "text": [
      "Enter string: sunny is name sam\n",
      "s : ['sunny', 'sam']\n",
      "i : ['is']\n",
      "n : ['name']\n"
     ]
    }
   ],
   "source": [
    "#Task 10: Python Program to Create a Dictionary with Key as First Character and Value as Words Starting with that Character\n",
    "\n",
    "stri = input(\"Enter string: \")\n",
    "d15 = {}\n",
    "l6 = stri.split()\n",
    "for i in l6:\n",
    "    if i[0] not in d15.keys():\n",
    "        d15[i[0]] = []\n",
    "        d15[i[0]].append(i)\n",
    "    else:\n",
    "        if i not in d15[i[0]]:\n",
    "            d15[i[0]].append(i)\n",
    "for k, v in d15.items():\n",
    "    print(k, ':' , v)    "
   ]
  }
 ],
 "metadata": {
  "kernelspec": {
   "display_name": "Python 3",
   "language": "python",
   "name": "python3"
  },
  "language_info": {
   "codemirror_mode": {
    "name": "ipython",
    "version": 3
   },
   "file_extension": ".py",
   "mimetype": "text/x-python",
   "name": "python",
   "nbconvert_exporter": "python",
   "pygments_lexer": "ipython3",
   "version": "3.7.3"
  }
 },
 "nbformat": 4,
 "nbformat_minor": 2
}
